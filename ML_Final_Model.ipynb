{
 "cells": [
  {
   "cell_type": "code",
   "execution_count": 1,
   "metadata": {
    "executionInfo": {
     "elapsed": 4,
     "status": "ok",
     "timestamp": 1658434148643,
     "user": {
      "displayName": "Lokesh Bhangale",
      "userId": "05815032307232913902"
     },
     "user_tz": -330
    },
    "id": "qfLBORyO7Rae"
   },
   "outputs": [],
   "source": [
    "import pandas as pd\n",
    "\n",
    "from collections import Counter"
   ]
  },
  {
   "cell_type": "code",
   "execution_count": 2,
   "metadata": {
    "executionInfo": {
     "elapsed": 51329,
     "status": "ok",
     "timestamp": 1658434204378,
     "user": {
      "displayName": "Lokesh Bhangale",
      "userId": "05815032307232913902"
     },
     "user_tz": -330
    },
    "id": "hGHHbn3MWxiu"
   },
   "outputs": [],
   "source": [
    "transactions = pd.read_csv(\"transactions_train.csv\")\n",
    "sample_submission=pd.read_csv('sample_submission.csv')"
   ]
  },
  {
   "cell_type": "code",
   "execution_count": 3,
   "metadata": {
    "colab": {
     "base_uri": "https://localhost:8080/",
     "height": 206
    },
    "executionInfo": {
     "elapsed": 32,
     "status": "ok",
     "timestamp": 1658434204379,
     "user": {
      "displayName": "Lokesh Bhangale",
      "userId": "05815032307232913902"
     },
     "user_tz": -330
    },
    "id": "irRUhuSx70-d",
    "outputId": "86f7fa82-5546-4aca-a548-61cb912627ab"
   },
   "outputs": [
    {
     "data": {
      "text/html": [
       "<div>\n",
       "<style scoped>\n",
       "    .dataframe tbody tr th:only-of-type {\n",
       "        vertical-align: middle;\n",
       "    }\n",
       "\n",
       "    .dataframe tbody tr th {\n",
       "        vertical-align: top;\n",
       "    }\n",
       "\n",
       "    .dataframe thead th {\n",
       "        text-align: right;\n",
       "    }\n",
       "</style>\n",
       "<table border=\"1\" class=\"dataframe\">\n",
       "  <thead>\n",
       "    <tr style=\"text-align: right;\">\n",
       "      <th></th>\n",
       "      <th>t_dat</th>\n",
       "      <th>customer_id</th>\n",
       "      <th>article_id</th>\n",
       "      <th>price</th>\n",
       "      <th>sales_channel_id</th>\n",
       "    </tr>\n",
       "  </thead>\n",
       "  <tbody>\n",
       "    <tr>\n",
       "      <th>0</th>\n",
       "      <td>2018-09-20</td>\n",
       "      <td>000058a12d5b43e67d225668fa1f8d618c13dc232df0ca...</td>\n",
       "      <td>663713001</td>\n",
       "      <td>0.050831</td>\n",
       "      <td>2</td>\n",
       "    </tr>\n",
       "    <tr>\n",
       "      <th>1</th>\n",
       "      <td>2018-09-20</td>\n",
       "      <td>000058a12d5b43e67d225668fa1f8d618c13dc232df0ca...</td>\n",
       "      <td>541518023</td>\n",
       "      <td>0.030492</td>\n",
       "      <td>2</td>\n",
       "    </tr>\n",
       "    <tr>\n",
       "      <th>2</th>\n",
       "      <td>2018-09-20</td>\n",
       "      <td>00007d2de826758b65a93dd24ce629ed66842531df6699...</td>\n",
       "      <td>505221004</td>\n",
       "      <td>0.015237</td>\n",
       "      <td>2</td>\n",
       "    </tr>\n",
       "    <tr>\n",
       "      <th>3</th>\n",
       "      <td>2018-09-20</td>\n",
       "      <td>00007d2de826758b65a93dd24ce629ed66842531df6699...</td>\n",
       "      <td>685687003</td>\n",
       "      <td>0.016932</td>\n",
       "      <td>2</td>\n",
       "    </tr>\n",
       "    <tr>\n",
       "      <th>4</th>\n",
       "      <td>2018-09-20</td>\n",
       "      <td>00007d2de826758b65a93dd24ce629ed66842531df6699...</td>\n",
       "      <td>685687004</td>\n",
       "      <td>0.016932</td>\n",
       "      <td>2</td>\n",
       "    </tr>\n",
       "  </tbody>\n",
       "</table>\n",
       "</div>"
      ],
      "text/plain": [
       "        t_dat                                        customer_id  article_id  \\\n",
       "0  2018-09-20  000058a12d5b43e67d225668fa1f8d618c13dc232df0ca...   663713001   \n",
       "1  2018-09-20  000058a12d5b43e67d225668fa1f8d618c13dc232df0ca...   541518023   \n",
       "2  2018-09-20  00007d2de826758b65a93dd24ce629ed66842531df6699...   505221004   \n",
       "3  2018-09-20  00007d2de826758b65a93dd24ce629ed66842531df6699...   685687003   \n",
       "4  2018-09-20  00007d2de826758b65a93dd24ce629ed66842531df6699...   685687004   \n",
       "\n",
       "      price  sales_channel_id  \n",
       "0  0.050831                 2  \n",
       "1  0.030492                 2  \n",
       "2  0.015237                 2  \n",
       "3  0.016932                 2  \n",
       "4  0.016932                 2  "
      ]
     },
     "execution_count": 3,
     "metadata": {},
     "output_type": "execute_result"
    }
   ],
   "source": [
    "transactions.head()"
   ]
  },
  {
   "cell_type": "code",
   "execution_count": 4,
   "metadata": {
    "colab": {
     "base_uri": "https://localhost:8080/",
     "height": 206
    },
    "executionInfo": {
     "elapsed": 19,
     "status": "ok",
     "timestamp": 1658434204380,
     "user": {
      "displayName": "Lokesh Bhangale",
      "userId": "05815032307232913902"
     },
     "user_tz": -330
    },
    "id": "pn2huIIy78dD",
    "outputId": "5661db86-6092-49e1-d079-7b499c604509"
   },
   "outputs": [
    {
     "data": {
      "text/html": [
       "<div>\n",
       "<style scoped>\n",
       "    .dataframe tbody tr th:only-of-type {\n",
       "        vertical-align: middle;\n",
       "    }\n",
       "\n",
       "    .dataframe tbody tr th {\n",
       "        vertical-align: top;\n",
       "    }\n",
       "\n",
       "    .dataframe thead th {\n",
       "        text-align: right;\n",
       "    }\n",
       "</style>\n",
       "<table border=\"1\" class=\"dataframe\">\n",
       "  <thead>\n",
       "    <tr style=\"text-align: right;\">\n",
       "      <th></th>\n",
       "      <th>customer_id</th>\n",
       "      <th>prediction</th>\n",
       "    </tr>\n",
       "  </thead>\n",
       "  <tbody>\n",
       "    <tr>\n",
       "      <th>0</th>\n",
       "      <td>00000dbacae5abe5e23885899a1fa44253a17956c6d1c3...</td>\n",
       "      <td>0706016001 0706016002 0372860001 0610776002 07...</td>\n",
       "    </tr>\n",
       "    <tr>\n",
       "      <th>1</th>\n",
       "      <td>0000423b00ade91418cceaf3b26c6af3dd342b51fd051e...</td>\n",
       "      <td>0706016001 0706016002 0372860001 0610776002 07...</td>\n",
       "    </tr>\n",
       "    <tr>\n",
       "      <th>2</th>\n",
       "      <td>000058a12d5b43e67d225668fa1f8d618c13dc232df0ca...</td>\n",
       "      <td>0706016001 0706016002 0372860001 0610776002 07...</td>\n",
       "    </tr>\n",
       "    <tr>\n",
       "      <th>3</th>\n",
       "      <td>00005ca1c9ed5f5146b52ac8639a40ca9d57aeff4d1bd2...</td>\n",
       "      <td>0706016001 0706016002 0372860001 0610776002 07...</td>\n",
       "    </tr>\n",
       "    <tr>\n",
       "      <th>4</th>\n",
       "      <td>00006413d8573cd20ed7128e53b7b13819fe5cfc2d801f...</td>\n",
       "      <td>0706016001 0706016002 0372860001 0610776002 07...</td>\n",
       "    </tr>\n",
       "  </tbody>\n",
       "</table>\n",
       "</div>"
      ],
      "text/plain": [
       "                                         customer_id  \\\n",
       "0  00000dbacae5abe5e23885899a1fa44253a17956c6d1c3...   \n",
       "1  0000423b00ade91418cceaf3b26c6af3dd342b51fd051e...   \n",
       "2  000058a12d5b43e67d225668fa1f8d618c13dc232df0ca...   \n",
       "3  00005ca1c9ed5f5146b52ac8639a40ca9d57aeff4d1bd2...   \n",
       "4  00006413d8573cd20ed7128e53b7b13819fe5cfc2d801f...   \n",
       "\n",
       "                                          prediction  \n",
       "0  0706016001 0706016002 0372860001 0610776002 07...  \n",
       "1  0706016001 0706016002 0372860001 0610776002 07...  \n",
       "2  0706016001 0706016002 0372860001 0610776002 07...  \n",
       "3  0706016001 0706016002 0372860001 0610776002 07...  \n",
       "4  0706016001 0706016002 0372860001 0610776002 07...  "
      ]
     },
     "execution_count": 4,
     "metadata": {},
     "output_type": "execute_result"
    }
   ],
   "source": [
    "sample_submission.head()"
   ]
  },
  {
   "cell_type": "code",
   "execution_count": 5,
   "metadata": {
    "executionInfo": {
     "elapsed": 1930,
     "status": "ok",
     "timestamp": 1658434206292,
     "user": {
      "displayName": "Lokesh Bhangale",
      "userId": "05815032307232913902"
     },
     "user_tz": -330
    },
    "id": "nBKAGiAn8IKR"
   },
   "outputs": [],
   "source": [
    "# Keeping only transactions from 2020-05-01 since the data is too large for Kaggle cluster\n",
    "transactions = transactions[transactions[\"t_dat\"]>='2020-07-01']"
   ]
  },
  {
   "cell_type": "code",
   "execution_count": 6,
   "metadata": {
    "executionInfo": {
     "elapsed": 2774,
     "status": "ok",
     "timestamp": 1658434209063,
     "user": {
      "displayName": "Lokesh Bhangale",
      "userId": "05815032307232913902"
     },
     "user_tz": -330
    },
    "id": "omZz2_bA8I8B"
   },
   "outputs": [],
   "source": [
    "# Considering each article_id as str\n",
    "transactions['article_id'] = transactions['article_id'].astype(str)"
   ]
  },
  {
   "cell_type": "code",
   "execution_count": 7,
   "metadata": {
    "colab": {
     "base_uri": "https://localhost:8080/"
    },
    "executionInfo": {
     "elapsed": 7489,
     "status": "ok",
     "timestamp": 1658434216548,
     "user": {
      "displayName": "Lokesh Bhangale",
      "userId": "05815032307232913902"
     },
     "user_tz": -330
    },
    "id": "RnQwXMJl8Mfv",
    "outputId": "899101e7-3aa3-480a-ac86-37af9c820efd"
   },
   "outputs": [
    {
     "name": "stdout",
     "output_type": "stream",
     "text": [
      "Train set size : 2370874\n",
      "Test set size : 1016089\n"
     ]
    }
   ],
   "source": [
    "# Splitting train and test as 30%\n",
    "test_set = 0.3\n",
    "train_set = (1-test_set)\n",
    "split = int(transactions.shape[0]*train_set)\n",
    "\n",
    "transactions_train = transactions.sort_values('t_dat').iloc[:split]\n",
    "transactions_test = transactions.sort_values('t_dat').iloc[split:]\n",
    "print(\"Train set size :\", transactions_train.shape[0])\n",
    "print(\"Test set size :\", transactions_test.shape[0])"
   ]
  },
  {
   "cell_type": "code",
   "execution_count": 8,
   "metadata": {
    "executionInfo": {
     "elapsed": 5,
     "status": "ok",
     "timestamp": 1658434216549,
     "user": {
      "displayName": "Lokesh Bhangale",
      "userId": "05815032307232913902"
     },
     "user_tz": -330
    },
    "id": "AkJlGR-X8Ph_"
   },
   "outputs": [],
   "source": [
    "class BestSellersRecsys():\n",
    "    \"\"\"FIXME\"\"\"\n",
    "    def __init__(self):\n",
    "        \"\"\"FIXME\"\"\"\n",
    "        pass\n",
    "    \n",
    "    def fit(self, X):\n",
    "        \"\"\"FIXME\"\"\"\n",
    "        self.X_occur = Counter(list(X['article_id']))\n",
    "        self.best_sellers_10 = [article_id for (article_id, occ) in self.X_occur.most_common(10)]\n",
    "        return self\n",
    "    \n",
    "    def predict(self, basket, k=10):\n",
    "        \"\"\"FIXME\"\"\"\n",
    "        if k==10:\n",
    "            return self.best_sellers_10\n",
    "        else:\n",
    "            best_sellers = [article_id for (article_id, occ) in self.X_occur.most_common(k)]\n",
    "            return best_sellers"
   ]
  },
  {
   "cell_type": "code",
   "execution_count": 9,
   "metadata": {
    "colab": {
     "base_uri": "https://localhost:8080/"
    },
    "executionInfo": {
     "elapsed": 10,
     "status": "ok",
     "timestamp": 1658434217360,
     "user": {
      "displayName": "Lokesh Bhangale",
      "userId": "05815032307232913902"
     },
     "user_tz": -330
    },
    "id": "ez5yqW1G8ReF",
    "outputId": "1d3185a7-3e73-4248-c189-9d0d90b6680e"
   },
   "outputs": [
    {
     "data": {
      "text/plain": [
       "<__main__.BestSellersRecsys at 0x1bd68515e80>"
      ]
     },
     "execution_count": 9,
     "metadata": {},
     "output_type": "execute_result"
    }
   ],
   "source": [
    "bs_recsys = BestSellersRecsys()\n",
    "bs_recsys.fit(transactions_train)"
   ]
  },
  {
   "cell_type": "code",
   "execution_count": 10,
   "metadata": {
    "colab": {
     "base_uri": "https://localhost:8080/"
    },
    "executionInfo": {
     "elapsed": 9,
     "status": "ok",
     "timestamp": 1658434217361,
     "user": {
      "displayName": "Lokesh Bhangale",
      "userId": "05815032307232913902"
     },
     "user_tz": -330
    },
    "id": "rStq9vl58TSF",
    "outputId": "55f74a45-9106-419b-e3fd-c83b909403ca"
   },
   "outputs": [
    {
     "data": {
      "text/plain": [
       "['706016001',\n",
       " '372860002',\n",
       " '610776002',\n",
       " '751471001',\n",
       " '730683050',\n",
       " '760084003',\n",
       " '759871002',\n",
       " '866383006',\n",
       " '464297007',\n",
       " '610776001']"
      ]
     },
     "execution_count": 10,
     "metadata": {},
     "output_type": "execute_result"
    }
   ],
   "source": [
    "bs_recsys.predict([])"
   ]
  },
  {
   "cell_type": "code",
   "execution_count": 11,
   "metadata": {
    "executionInfo": {
     "elapsed": 6,
     "status": "ok",
     "timestamp": 1658434217361,
     "user": {
      "displayName": "Lokesh Bhangale",
      "userId": "05815032307232913902"
     },
     "user_tz": -330
    },
    "id": "fdVbj1DO8XEG"
   },
   "outputs": [],
   "source": [
    "from math import sqrt\n",
    "\n",
    "class CosineSimCoOccurenceRecsys():\n",
    "    \"\"\"FIXME\"\"\"\n",
    "    def __init__(self):\n",
    "        \"\"\"FIXME\"\"\"\n",
    "        pass\n",
    "    \n",
    "    def _get_l_of_two_from_l(self, l):\n",
    "        \"\"\"FIXME\"\"\"\n",
    "        # Dropping duplicates to avoid having more co-occur than occur\n",
    "        l = list(set(l))\n",
    "        if len(l)>1:\n",
    "            l_of_two = []\n",
    "            for i in range(0,len(l)):\n",
    "                for j in range(i+1,len(l)):\n",
    "                    if int(l[i])<int(l[j]):\n",
    "                        l_of_two.append(f\"{l[i]}|{l[j]}\")\n",
    "                    else:\n",
    "                        l_of_two.append(f\"{l[j]}|{l[i]}\")\n",
    "            return l_of_two\n",
    "        return None\n",
    "    \n",
    "    def _get_frequency(self, article_id, counter_occur_article_id):\n",
    "        \"\"\"FIXME\"\"\"\n",
    "        return counter_occur_article_id[article_id]\n",
    "    \n",
    "    def _get_co_occ_frequency(self, article_id_a, article_id_b, counter_co_occ_article_id):\n",
    "        \"\"\"FIXME\"\"\"\n",
    "        if int (article_id_a) < int(article_id_b):\n",
    "            str_co_occ = article_id_a + '|' + article_id_b\n",
    "        else:\n",
    "            str_co_occ = article_id_b + '|' + article_id_a\n",
    "        return counter_co_occ_article_id[str_co_occ]\n",
    "    \n",
    "    def _get_cosine_sim(self, freq_a, freq_b, co_occ_freq):\n",
    "        \"\"\"FIXME\"\"\"\n",
    "        return (co_occ_freq/sqrt(freq_a*freq_b))\n",
    "        \n",
    "    def fit(self, X):\n",
    "        \"\"\"FIXME\"\"\"        \n",
    "        # Getting baskets\n",
    "        # FIXME \n",
    "        X_grouped = X.head(10000).groupby(['t_dat', 'customer_id'])['article_id'].apply(list).reset_index()\n",
    "        \n",
    "        # Getting frequencies of article_ids\n",
    "        l_baskets_len2 = list(X_grouped[X_grouped['article_id'].map(len) >1]['article_id'])\n",
    "        l_baskets_len2_flat_list = [x for xs in l_baskets_len2 for x in xs]\n",
    "        counter_occur_article_id = Counter(l_baskets_len2_flat_list)\n",
    "\n",
    "        # Getting co-occur frequencies of article_ids\n",
    "        l_co_occur_article_id = []\n",
    "        for basket in l_baskets_len2:\n",
    "            l_of_two = self._get_l_of_two_from_l(basket)\n",
    "            if l_of_two:\n",
    "                l_co_occur_article_id += l_of_two\n",
    "\n",
    "        counter_co_occ_article_id = Counter(l_co_occur_article_id)\n",
    "        \n",
    "        # Creating pandas dataframe\n",
    "        l_article_id_a = [i.split('|', 1)[0] for i in l_co_occur_article_id]\n",
    "        l_article_id_b = [i.split('|', 1)[1] for i in l_co_occur_article_id]\n",
    "        df_cosine = pd.DataFrame()\n",
    "        df_cosine['article_id_a'] = l_article_id_a\n",
    "        df_cosine['article_id_b'] = l_article_id_b\n",
    "        df_cosine['freq_a'] = df_cosine['article_id_a'].apply(lambda x : self._get_frequency(x, counter_occur_article_id))\n",
    "        df_cosine['freq_b'] = df_cosine['article_id_b'].apply(lambda x : self._get_frequency(x, counter_occur_article_id))\n",
    "        df_cosine['co_occ_freq'] = df_cosine.apply(lambda x: self._get_co_occ_frequency(x.article_id_a, x.article_id_b, counter_co_occ_article_id), axis=1)\n",
    "        df_cosine['cosine_sim'] = df_cosine.apply(lambda x: self._get_cosine_sim(x.freq_a, x.freq_b, x.co_occ_freq), axis=1)\n",
    "        df_cosine = df_cosine.sort_values('cosine_sim', ascending=False)\n",
    "        self.df_cosine = df_cosine\n",
    "        return self\n",
    "    \n",
    "    def predict(self, basket, k=10, strat='mean'):\n",
    "        \"\"\"FIXME\"\"\"\n",
    "        df = self.df_cosine[(self.df_cosine['article_id_a'].isin(basket)) & (~self.df_cosine['article_id_b'].isin(basket))]\n",
    "        if strat=='mean':\n",
    "            result = list(df[['article_id_b', 'cosine_sim']].groupby(['article_id_b']).mean().reset_index()['article_id_b'])[:k]\n",
    "        elif strat=='max':\n",
    "            result = list(df[['article_id_b', 'cosine_sim']].groupby(['article_id_b']).max().reset_index()['article_id_b'])[:k]\n",
    "        else:\n",
    "            rsult = []\n",
    "        return result"
   ]
  },
  {
   "cell_type": "code",
   "execution_count": 12,
   "metadata": {
    "executionInfo": {
     "elapsed": 1540,
     "status": "ok",
     "timestamp": 1658434218896,
     "user": {
      "displayName": "Lokesh Bhangale",
      "userId": "05815032307232913902"
     },
     "user_tz": -330
    },
    "id": "3hVD532A8aPt"
   },
   "outputs": [],
   "source": [
    "cs_recsys = CosineSimCoOccurenceRecsys().fit(transactions_train)"
   ]
  },
  {
   "cell_type": "code",
   "execution_count": 13,
   "metadata": {
    "colab": {
     "base_uri": "https://localhost:8080/"
    },
    "executionInfo": {
     "elapsed": 722,
     "status": "ok",
     "timestamp": 1658434266915,
     "user": {
      "displayName": "Lokesh Bhangale",
      "userId": "05815032307232913902"
     },
     "user_tz": -330
    },
    "id": "D4JcvOcC8cJL",
    "outputId": "d0a22874-0d14-4223-fce9-cce07c58a37a"
   },
   "outputs": [
    {
     "data": {
      "text/plain": [
       "['614854016',\n",
       " '691855013',\n",
       " '778064001',\n",
       " '778064045',\n",
       " '806388005',\n",
       " '831809001',\n",
       " '838640001',\n",
       " '858172001',\n",
       " '858172002',\n",
       " '865076002']"
      ]
     },
     "execution_count": 13,
     "metadata": {},
     "output_type": "execute_result"
    }
   ],
   "source": [
    "cs_recsys.predict(['610776083'])"
   ]
  },
  {
   "cell_type": "code",
   "execution_count": null,
   "metadata": {},
   "outputs": [],
   "source": []
  },
  {
   "cell_type": "code",
   "execution_count": null,
   "metadata": {},
   "outputs": [],
   "source": []
  }
 ],
 "metadata": {
  "colab": {
   "authorship_tag": "ABX9TyPYNbp/ZhgNPisA0rTwQobj",
   "collapsed_sections": [],
   "name": "Untitled0.ipynb",
   "provenance": []
  },
  "kernelspec": {
   "display_name": "Python 3 (ipykernel)",
   "language": "python",
   "name": "python3"
  },
  "language_info": {
   "codemirror_mode": {
    "name": "ipython",
    "version": 3
   },
   "file_extension": ".py",
   "mimetype": "text/x-python",
   "name": "python",
   "nbconvert_exporter": "python",
   "pygments_lexer": "ipython3",
   "version": "3.9.12"
  }
 },
 "nbformat": 4,
 "nbformat_minor": 1
}
